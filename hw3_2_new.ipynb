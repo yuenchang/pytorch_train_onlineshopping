{
 "cells": [
  {
   "cell_type": "markdown",
   "metadata": {
    "colab_type": "text",
    "id": "Z1HTTVa2b-xo"
   },
   "source": [
    "# online_shoppers_intention \n",
    "## 資料前處理\n",
    "### 把資料吃吃吃進去！好吃！"
   ]
  },
  {
   "cell_type": "code",
   "execution_count": 1,
   "metadata": {
    "colab": {},
    "colab_type": "code",
    "id": "XiSdoEW3b-xq"
   },
   "outputs": [],
   "source": [
    "import numpy as np \n",
    "import pandas as pd\n",
    "dataset = pd.read_csv('./online_shoppers_intention.csv')\n",
    "dataset.head(5)\n",
    "\n",
    "import warnings\n",
    "warnings.filterwarnings(\"ignore\")"
   ]
  },
  {
   "cell_type": "markdown",
   "metadata": {
    "colab_type": "text",
    "id": "xocHl6ptb-xw"
   },
   "source": [
    "### 定義 input（x） 跟 output（y）"
   ]
  },
  {
   "cell_type": "code",
   "execution_count": 2,
   "metadata": {
    "colab": {
     "base_uri": "https://localhost:8080/",
     "height": 269
    },
    "colab_type": "code",
    "executionInfo": {
     "elapsed": 855,
     "status": "ok",
     "timestamp": 1590756274066,
     "user": {
      "displayName": "F74056051張語恩",
      "photoUrl": "",
      "userId": "00523065206091252932"
     },
     "user_tz": -480
    },
    "id": "DFyLGKWnb-xx",
    "outputId": "45b79e6b-5ab7-4ce5-b8bf-e8df9a16492d"
   },
   "outputs": [
    {
     "name": "stdout",
     "output_type": "stream",
     "text": [
      "   Administrative  Administrative_Duration  Informational  \\\n",
      "0               0                      0.0              0   \n",
      "1               0                      0.0              0   \n",
      "2               0                      0.0              0   \n",
      "3               0                      0.0              0   \n",
      "4               0                      0.0              0   \n",
      "\n",
      "   Informational_Duration  ProductRelated  ProductRelated_Duration  \\\n",
      "0                     0.0               1                 0.000000   \n",
      "1                     0.0               2                64.000000   \n",
      "2                     0.0               1                 0.000000   \n",
      "3                     0.0               2                 2.666667   \n",
      "4                     0.0              10               627.500000   \n",
      "\n",
      "   BounceRates  ExitRates  PageValues  SpecialDay Month  OperatingSystems  \\\n",
      "0         0.20       0.20         0.0         0.0   Feb                 1   \n",
      "1         0.00       0.10         0.0         0.0   Feb                 2   \n",
      "2         0.20       0.20         0.0         0.0   Feb                 4   \n",
      "3         0.05       0.14         0.0         0.0   Feb                 3   \n",
      "4         0.02       0.05         0.0         0.0   Feb                 3   \n",
      "\n",
      "   Browser  Region  TrafficType        VisitorType  Weekend  \n",
      "0        1       1            1  Returning_Visitor    False  \n",
      "1        2       1            2  Returning_Visitor    False  \n",
      "2        1       9            3  Returning_Visitor    False  \n",
      "3        2       2            4  Returning_Visitor    False  \n",
      "4        3       1            4  Returning_Visitor     True  \n",
      "==================\n",
      "   Revenue\n",
      "0    False\n",
      "1    False\n",
      "2    False\n",
      "3    False\n",
      "4    False\n"
     ]
    }
   ],
   "source": [
    "X_train = dataset.iloc[:, 0:len(dataset.iloc[[0],:])-2] \n",
    "Y_train = dataset.iloc[:, [-1]] \n",
    "                       \n",
    "print(X_train.head(5))\n",
    "print(\"==================\")\n",
    "print(Y_train.head(5))"
   ]
  },
  {
   "cell_type": "markdown",
   "metadata": {
    "colab_type": "text",
    "id": "drECd8Vab-x3"
   },
   "source": [
    "### X如果特徵中有string，將它轉換成數字\n",
    "* 因為下面這個步驟每次都跑很慢，因此將它輸出成csv檔，下次就只要吃csv就可以"
   ]
  },
  {
   "cell_type": "code",
   "execution_count": 3,
   "metadata": {
    "colab": {
     "base_uri": "https://localhost:8080/",
     "height": 54
    },
    "colab_type": "code",
    "executionInfo": {
     "elapsed": 831,
     "status": "ok",
     "timestamp": 1590756274067,
     "user": {
      "displayName": "F74056051張語恩",
      "photoUrl": "",
      "userId": "00523065206091252932"
     },
     "user_tz": -480
    },
    "id": "U78kFv4Xb-x4",
    "outputId": "0d178ce4-9d84-403b-e73f-671966aa8076"
   },
   "outputs": [
    {
     "data": {
      "text/plain": [
       "\"\\nX_train['month'] = 0\\nfor i in range(len(X_train)):\\n    if X_train['Month'][i] == 'Jan':\\n        X_train['month'][i] = 1\\n    elif X_train['Month'][i] == 'Feb':\\n        X_train['month'][i] = 2\\n    elif X_train['Month'][i] == 'Mar':\\n        X_train['month'][i] = 3\\n    elif X_train['Month'][i] == 'Apr':\\n        X_train['month'][i] = 4\\n    elif X_train['Month'][i] == 'May':\\n        X_train['month'][i] = 5\\n    elif X_train['Month'][i] == 'June':\\n        X_train['month'][i] = 6\\n    elif X_train['Month'][i] == 'Jul':\\n        X_train['month'][i] = 7\\n    elif X_train['Month'][i] == 'Aug':\\n        X_train['month'][i] = 8\\n    elif X_train['Month'][i] == 'Sep':\\n        X_train['month'][i] = 9\\n    elif X_train['Month'][i] == 'Oct':\\n        X_train['month'][i] = 10\\n    elif X_train['Month'][i] == 'Nov':\\n        X_train['month'][i] = 11\\n    elif X_train['Month'][i] == 'Dec':\\n        X_train['month'][i] = 12\\n\\nX_train = pd.get_dummies(data=X_train, columns=['Month', 'VisitorType', 'Weekend'])\\nX_train.head(10) \\n\""
      ]
     },
     "execution_count": 3,
     "metadata": {},
     "output_type": "execute_result"
    }
   ],
   "source": [
    "'''\n",
    "X_train['month'] = 0\n",
    "for i in range(len(X_train)):\n",
    "    if X_train['Month'][i] == 'Jan':\n",
    "        X_train['month'][i] = 1\n",
    "    elif X_train['Month'][i] == 'Feb':\n",
    "        X_train['month'][i] = 2\n",
    "    elif X_train['Month'][i] == 'Mar':\n",
    "        X_train['month'][i] = 3\n",
    "    elif X_train['Month'][i] == 'Apr':\n",
    "        X_train['month'][i] = 4\n",
    "    elif X_train['Month'][i] == 'May':\n",
    "        X_train['month'][i] = 5\n",
    "    elif X_train['Month'][i] == 'June':\n",
    "        X_train['month'][i] = 6\n",
    "    elif X_train['Month'][i] == 'Jul':\n",
    "        X_train['month'][i] = 7\n",
    "    elif X_train['Month'][i] == 'Aug':\n",
    "        X_train['month'][i] = 8\n",
    "    elif X_train['Month'][i] == 'Sep':\n",
    "        X_train['month'][i] = 9\n",
    "    elif X_train['Month'][i] == 'Oct':\n",
    "        X_train['month'][i] = 10\n",
    "    elif X_train['Month'][i] == 'Nov':\n",
    "        X_train['month'][i] = 11\n",
    "    elif X_train['Month'][i] == 'Dec':\n",
    "        X_train['month'][i] = 12\n",
    "\n",
    "X_train = pd.get_dummies(data=X_train, columns=['Month', 'VisitorType', 'Weekend'])\n",
    "X_train.head(10) \n",
    "'''"
   ]
  },
  {
   "cell_type": "code",
   "execution_count": 4,
   "metadata": {
    "colab": {
     "base_uri": "https://localhost:8080/",
     "height": 34
    },
    "colab_type": "code",
    "executionInfo": {
     "elapsed": 826,
     "status": "ok",
     "timestamp": 1590756274068,
     "user": {
      "displayName": "F74056051張語恩",
      "photoUrl": "",
      "userId": "00523065206091252932"
     },
     "user_tz": -480
    },
    "id": "Dg9EalDOb-x9",
    "outputId": "fd6235d9-d4c9-40df-bdfe-440da6a340c3"
   },
   "outputs": [
    {
     "data": {
      "text/plain": [
       "\"\\n#x資料丟掉0 和 1 一定互斥的\\n\\nX_train = X_train.drop(['Weekend_False'], axis=1)\\n\\n#資料跑太久先暫存\\nX_train.to_csv('X_train.csv')\\n\""
      ]
     },
     "execution_count": 4,
     "metadata": {},
     "output_type": "execute_result"
    }
   ],
   "source": [
    "'''\n",
    "#x資料丟掉0 和 1 一定互斥的\n",
    "\n",
    "X_train = X_train.drop(['Weekend_False'], axis=1)\n",
    "\n",
    "#資料跑太久先暫存\n",
    "X_train.to_csv('X_train.csv')\n",
    "'''"
   ]
  },
  {
   "cell_type": "code",
   "execution_count": 5,
   "metadata": {
    "colab": {},
    "colab_type": "code",
    "id": "8m2iItGyb-yC"
   },
   "outputs": [],
   "source": [
    "X_train = pd.read_csv('X_train.csv')\n",
    "X_train = X_train.drop(['id'], axis=1)"
   ]
  },
  {
   "cell_type": "markdown",
   "metadata": {
    "colab_type": "text",
    "id": "KL6C-5CHb-yG"
   },
   "source": [
    "### y如果特徵中有string，將它轉換成數字"
   ]
  },
  {
   "cell_type": "code",
   "execution_count": 6,
   "metadata": {
    "colab": {},
    "colab_type": "code",
    "id": "6OCUkEAPb-yH"
   },
   "outputs": [],
   "source": [
    "Y_train = pd.get_dummies(data=Y_train, columns=['Revenue'])\n",
    "# 處理y資料\n",
    "Y_train = Y_train.drop(['Revenue_False'], axis=1)"
   ]
  },
  {
   "cell_type": "markdown",
   "metadata": {
    "colab_type": "text",
    "id": "QO0cIu9ab-yM"
   },
   "source": [
    "### correlation"
   ]
  },
  {
   "cell_type": "code",
   "execution_count": 7,
   "metadata": {
    "colab": {
     "base_uri": "https://localhost:8080/",
     "height": 215
    },
    "colab_type": "code",
    "executionInfo": {
     "elapsed": 1022,
     "status": "ok",
     "timestamp": 1590756274333,
     "user": {
      "displayName": "F74056051張語恩",
      "photoUrl": "",
      "userId": "00523065206091252932"
     },
     "user_tz": -480
    },
    "id": "j2t8DrdMb-yO",
    "outputId": "6eb769fd-0e85-453c-a8b4-a927349bc6fa"
   },
   "outputs": [
    {
     "data": {
      "text/html": [
       "<div>\n",
       "<style scoped>\n",
       "    .dataframe tbody tr th:only-of-type {\n",
       "        vertical-align: middle;\n",
       "    }\n",
       "\n",
       "    .dataframe tbody tr th {\n",
       "        vertical-align: top;\n",
       "    }\n",
       "\n",
       "    .dataframe thead th {\n",
       "        text-align: right;\n",
       "    }\n",
       "</style>\n",
       "<table border=\"1\" class=\"dataframe\">\n",
       "  <thead>\n",
       "    <tr style=\"text-align: right;\">\n",
       "      <th></th>\n",
       "      <th>Administrative</th>\n",
       "      <th>Administrative_Duration</th>\n",
       "      <th>Informational</th>\n",
       "      <th>Informational_Duration</th>\n",
       "      <th>ProductRelated</th>\n",
       "      <th>ProductRelated_Duration</th>\n",
       "      <th>BounceRates</th>\n",
       "      <th>ExitRates</th>\n",
       "      <th>PageValues</th>\n",
       "      <th>SpecialDay</th>\n",
       "      <th>...</th>\n",
       "      <th>Month_Mar</th>\n",
       "      <th>Month_May</th>\n",
       "      <th>Month_Nov</th>\n",
       "      <th>Month_Oct</th>\n",
       "      <th>Month_Sep</th>\n",
       "      <th>VisitorType_New_Visitor</th>\n",
       "      <th>VisitorType_Other</th>\n",
       "      <th>VisitorType_Returning_Visitor</th>\n",
       "      <th>Weekend_True</th>\n",
       "      <th>Revenue_True</th>\n",
       "    </tr>\n",
       "  </thead>\n",
       "  <tbody>\n",
       "    <tr>\n",
       "      <th>0</th>\n",
       "      <td>0</td>\n",
       "      <td>0.0</td>\n",
       "      <td>0</td>\n",
       "      <td>0.0</td>\n",
       "      <td>1</td>\n",
       "      <td>0.000000</td>\n",
       "      <td>0.20</td>\n",
       "      <td>0.20</td>\n",
       "      <td>0.0</td>\n",
       "      <td>0.0</td>\n",
       "      <td>...</td>\n",
       "      <td>0</td>\n",
       "      <td>0</td>\n",
       "      <td>0</td>\n",
       "      <td>0</td>\n",
       "      <td>0</td>\n",
       "      <td>0</td>\n",
       "      <td>0</td>\n",
       "      <td>1</td>\n",
       "      <td>0</td>\n",
       "      <td>0</td>\n",
       "    </tr>\n",
       "    <tr>\n",
       "      <th>1</th>\n",
       "      <td>0</td>\n",
       "      <td>0.0</td>\n",
       "      <td>0</td>\n",
       "      <td>0.0</td>\n",
       "      <td>2</td>\n",
       "      <td>64.000000</td>\n",
       "      <td>0.00</td>\n",
       "      <td>0.10</td>\n",
       "      <td>0.0</td>\n",
       "      <td>0.0</td>\n",
       "      <td>...</td>\n",
       "      <td>0</td>\n",
       "      <td>0</td>\n",
       "      <td>0</td>\n",
       "      <td>0</td>\n",
       "      <td>0</td>\n",
       "      <td>0</td>\n",
       "      <td>0</td>\n",
       "      <td>1</td>\n",
       "      <td>0</td>\n",
       "      <td>0</td>\n",
       "    </tr>\n",
       "    <tr>\n",
       "      <th>2</th>\n",
       "      <td>0</td>\n",
       "      <td>0.0</td>\n",
       "      <td>0</td>\n",
       "      <td>0.0</td>\n",
       "      <td>1</td>\n",
       "      <td>0.000000</td>\n",
       "      <td>0.20</td>\n",
       "      <td>0.20</td>\n",
       "      <td>0.0</td>\n",
       "      <td>0.0</td>\n",
       "      <td>...</td>\n",
       "      <td>0</td>\n",
       "      <td>0</td>\n",
       "      <td>0</td>\n",
       "      <td>0</td>\n",
       "      <td>0</td>\n",
       "      <td>0</td>\n",
       "      <td>0</td>\n",
       "      <td>1</td>\n",
       "      <td>0</td>\n",
       "      <td>0</td>\n",
       "    </tr>\n",
       "    <tr>\n",
       "      <th>3</th>\n",
       "      <td>0</td>\n",
       "      <td>0.0</td>\n",
       "      <td>0</td>\n",
       "      <td>0.0</td>\n",
       "      <td>2</td>\n",
       "      <td>2.666667</td>\n",
       "      <td>0.05</td>\n",
       "      <td>0.14</td>\n",
       "      <td>0.0</td>\n",
       "      <td>0.0</td>\n",
       "      <td>...</td>\n",
       "      <td>0</td>\n",
       "      <td>0</td>\n",
       "      <td>0</td>\n",
       "      <td>0</td>\n",
       "      <td>0</td>\n",
       "      <td>0</td>\n",
       "      <td>0</td>\n",
       "      <td>1</td>\n",
       "      <td>0</td>\n",
       "      <td>0</td>\n",
       "    </tr>\n",
       "    <tr>\n",
       "      <th>4</th>\n",
       "      <td>0</td>\n",
       "      <td>0.0</td>\n",
       "      <td>0</td>\n",
       "      <td>0.0</td>\n",
       "      <td>10</td>\n",
       "      <td>627.500000</td>\n",
       "      <td>0.02</td>\n",
       "      <td>0.05</td>\n",
       "      <td>0.0</td>\n",
       "      <td>0.0</td>\n",
       "      <td>...</td>\n",
       "      <td>0</td>\n",
       "      <td>0</td>\n",
       "      <td>0</td>\n",
       "      <td>0</td>\n",
       "      <td>0</td>\n",
       "      <td>0</td>\n",
       "      <td>0</td>\n",
       "      <td>1</td>\n",
       "      <td>1</td>\n",
       "      <td>0</td>\n",
       "    </tr>\n",
       "  </tbody>\n",
       "</table>\n",
       "<p>5 rows × 30 columns</p>\n",
       "</div>"
      ],
      "text/plain": [
       "   Administrative  Administrative_Duration  Informational  \\\n",
       "0               0                      0.0              0   \n",
       "1               0                      0.0              0   \n",
       "2               0                      0.0              0   \n",
       "3               0                      0.0              0   \n",
       "4               0                      0.0              0   \n",
       "\n",
       "   Informational_Duration  ProductRelated  ProductRelated_Duration  \\\n",
       "0                     0.0               1                 0.000000   \n",
       "1                     0.0               2                64.000000   \n",
       "2                     0.0               1                 0.000000   \n",
       "3                     0.0               2                 2.666667   \n",
       "4                     0.0              10               627.500000   \n",
       "\n",
       "   BounceRates  ExitRates  PageValues  SpecialDay  ...  Month_Mar  Month_May  \\\n",
       "0         0.20       0.20         0.0         0.0  ...          0          0   \n",
       "1         0.00       0.10         0.0         0.0  ...          0          0   \n",
       "2         0.20       0.20         0.0         0.0  ...          0          0   \n",
       "3         0.05       0.14         0.0         0.0  ...          0          0   \n",
       "4         0.02       0.05         0.0         0.0  ...          0          0   \n",
       "\n",
       "   Month_Nov  Month_Oct  Month_Sep  VisitorType_New_Visitor  \\\n",
       "0          0          0          0                        0   \n",
       "1          0          0          0                        0   \n",
       "2          0          0          0                        0   \n",
       "3          0          0          0                        0   \n",
       "4          0          0          0                        0   \n",
       "\n",
       "   VisitorType_Other  VisitorType_Returning_Visitor  Weekend_True  \\\n",
       "0                  0                              1             0   \n",
       "1                  0                              1             0   \n",
       "2                  0                              1             0   \n",
       "3                  0                              1             0   \n",
       "4                  0                              1             1   \n",
       "\n",
       "   Revenue_True  \n",
       "0             0  \n",
       "1             0  \n",
       "2             0  \n",
       "3             0  \n",
       "4             0  \n",
       "\n",
       "[5 rows x 30 columns]"
      ]
     },
     "execution_count": 7,
     "metadata": {},
     "output_type": "execute_result"
    }
   ],
   "source": [
    "# 將x y重新合併\n",
    "correlation_data = pd.concat([X_train, Y_train], axis=1)\n",
    "correlation_data.head(5)"
   ]
  },
  {
   "cell_type": "code",
   "execution_count": 8,
   "metadata": {
    "colab": {
     "base_uri": "https://localhost:8080/",
     "height": 538
    },
    "colab_type": "code",
    "executionInfo": {
     "elapsed": 1699,
     "status": "ok",
     "timestamp": 1590756275033,
     "user": {
      "displayName": "F74056051張語恩",
      "photoUrl": "",
      "userId": "00523065206091252932"
     },
     "user_tz": -480
    },
    "id": "FtvOEzLwb-yT",
    "outputId": "94fb77a8-850e-4a85-ebb1-cd54ff6b7918"
   },
   "outputs": [
    {
     "name": "stdout",
     "output_type": "stream",
     "text": [
      "                               Revenue_True\n",
      "Administrative                     0.150152\n",
      "Administrative_Duration            0.143904\n",
      "Informational                      0.109535\n",
      "Informational_Duration             0.106734\n",
      "ProductRelated                     0.163667\n",
      "ProductRelated_Duration            0.177313\n",
      "BounceRates                       -0.130140\n",
      "ExitRates                         -0.208616\n",
      "PageValues                         0.592213\n",
      "SpecialDay                        -0.085179\n",
      "OperatingSystems                  -0.025691\n",
      "Browser                            0.015367\n",
      "Region                            -0.013183\n",
      "TrafficType                       -0.001050\n",
      "month                              0.096833\n",
      "Month_Aug                          0.010959\n",
      "Month_Dec                         -0.033112\n",
      "Month_Feb                         -0.047114\n",
      "Month_Jul                         -0.001036\n",
      "Month_June                        -0.023112\n",
      "Month_Mar                         -0.063941\n",
      "Month_May                         -0.078320\n",
      "Month_Nov                          0.154774\n",
      "Month_Oct                          0.032666\n",
      "Month_Sep                          0.019983\n",
      "VisitorType_New_Visitor            0.104136\n",
      "VisitorType_Other                  0.007715\n",
      "VisitorType_Returning_Visitor     -0.103843\n",
      "Weekend_True                       0.029295\n",
      "Revenue_True                       1.000000\n"
     ]
    }
   ],
   "source": [
    "# 算corrilation\n",
    "correlation_result = correlation_data.corr(method ='kendall') \n",
    "correlation_result = correlation_result.loc[:, ['Revenue_True']]\n",
    "print(correlation_result)"
   ]
  },
  {
   "cell_type": "code",
   "execution_count": 66,
   "metadata": {
    "colab": {
     "base_uri": "https://localhost:8080/",
     "height": 400
    },
    "colab_type": "code",
    "executionInfo": {
     "elapsed": 2299,
     "status": "ok",
     "timestamp": 1590756275654,
     "user": {
      "displayName": "F74056051張語恩",
      "photoUrl": "",
      "userId": "00523065206091252932"
     },
     "user_tz": -480
    },
    "id": "TmbhKd8Ub-yX",
    "outputId": "48a4784e-a0c3-4d2b-89f1-63549c34d69c"
   },
   "outputs": [
    {
     "data": {
      "image/png": "[encoded data removed]",
      "text/plain": [
       "<Figure size 432x288 with 1 Axes>"
      ]
     },
     "metadata": {
      "needs_background": "light"
     },
     "output_type": "display_data"
    }
   ],
   "source": [
    " #plot\n",
    "correlation_result_y = np.resize(correlation_result.values,(1,len(correlation_result.values)))[0]\n",
    "\n",
    "import matplotlib.pyplot as plt\n",
    "plt.bar(range(len(correlation_result)), list(correlation_result_y), linewidth=10)\n",
    "plt.xticks(range(len(correlation_result)), list(correlation_result.index.values), rotation=90)\n",
    "\n",
    "plt.show()"
   ]
  },
  {
   "cell_type": "markdown",
   "metadata": {
    "colab_type": "text",
    "id": "uvdtyr8Wb-yb"
   },
   "source": [
    "### 資料分析結果\n",
    "* 高度正相關：\n",
    "    * PageValues                         ｜0.592213\n",
    "* 中度正相關： \n",
    "    * Administrative                     ｜0.150152\n",
    "    * Administrative_Duration            ｜0.143904\n",
    "    * Informational                      ｜0.109535\n",
    "    * Informational_Duration             ｜0.106734\n",
    "    * ProductRelated                     ｜0.163667\n",
    "    * ProductRelated_Duration            ｜0.177313\n",
    "* 月份資料觀察：\n",
    "    * Month_Aug                          ｜0.010959\n",
    "    * Month_Dec                         ｜-0.033112\n",
    "    * Month_Feb                         ｜-0.047114\n",
    "    * Month_Jul                         ｜-0.001036\n",
    "    * Month_June                        ｜-0.023112\n",
    "    * Month_Mar                         ｜-0.063941\n",
    "    * Month_May                         ｜-0.078320\n",
    "    * Month_Nov                         ｜0.154774\n",
    "    * Month_Oct                          ｜0.032666\n",
    "    * Month_Sep                          ｜0.019983\n",
    "    * 購買力較大的月份：11>10>9>8"
   ]
  },
  {
   "cell_type": "markdown",
   "metadata": {
    "colab_type": "text",
    "id": "mb86uZ7bb-yc"
   },
   "source": [
    "## Define problem:由使用者的行為模式判斷最終是否會購買物品\n",
    "\n",
    "### 使用上個作業表現最好的crossvalidation RR"
   ]
  },
  {
   "cell_type": "code",
   "execution_count": 10,
   "metadata": {
    "colab": {
     "base_uri": "https://localhost:8080/",
     "height": 34
    },
    "colab_type": "code",
    "executionInfo": {
     "elapsed": 2291,
     "status": "ok",
     "timestamp": 1590756275656,
     "user": {
      "displayName": "F74056051張語恩",
      "photoUrl": "",
      "userId": "00523065206091252932"
     },
     "user_tz": -480
    },
    "id": "jxRWP42jb-yd",
    "outputId": "b68f5857-8bc6-434e-b75f-f200271d90f5"
   },
   "outputs": [
    {
     "name": "stdout",
     "output_type": "stream",
     "text": [
      "29\n"
     ]
    }
   ],
   "source": [
    "#train 之前，將xy整理成自己需要的樣子\n",
    "#y =（一個一維的list）\n",
    "#x = 二維的list\n",
    "Y_train = np.resize(Y_train, (1, len(Y_train)))[0]\n",
    "X_train = X_train.values\n",
    "input_len = len(X_train[0])\n",
    "print(input_len)"
   ]
  },
  {
   "cell_type": "code",
   "execution_count": 11,
   "metadata": {
    "colab": {},
    "colab_type": "code",
    "id": "jWZyTFsEb-yh"
   },
   "outputs": [],
   "source": [
    "import torch\n",
    "import torch.nn as nn\n",
    "import torch.nn.functional as F\n",
    "\n",
    "class Net(nn.Module):\n",
    "    \n",
    "    def __init__(self):\n",
    "        super(Net, self).__init__()\n",
    "        self.fc1 = nn.Linear(input_len, 200) #270自己設定的嘛0.0\n",
    "        self.fc2 = nn.Linear(200, 2)\n",
    "        \n",
    "    def forward(self, x):\n",
    "        x = self.fc1(x)\n",
    "        x = F.dropout(x, p=0.1)\n",
    "        x = F.relu(x)\n",
    "        x = self.fc2(x)\n",
    "        x = F.sigmoid(x)\n",
    "        \n",
    "        return x\n",
    "    \n",
    "net = Net()"
   ]
  },
  {
   "cell_type": "code",
   "execution_count": 12,
   "metadata": {
    "colab": {},
    "colab_type": "code",
    "id": "86RgA-RXb-yt"
   },
   "outputs": [],
   "source": [
    "batch_size = 100 # 一組100（一次訓練訓練個 TRAIN DATA / 100次）\n",
    "num_epochs = 20 # 訓20次\n",
    "learning_rate = 0.01"
   ]
  },
  {
   "cell_type": "code",
   "execution_count": 13,
   "metadata": {
    "colab": {},
    "colab_type": "code",
    "id": "FBGecv7Eb-yx"
   },
   "outputs": [],
   "source": [
    "criterion = nn.CrossEntropyLoss()\n",
    "optimizer = torch.optim.Adam(net.parameters(), lr=learning_rate)"
   ]
  },
  {
   "cell_type": "code",
   "execution_count": 14,
   "metadata": {
    "colab": {
     "base_uri": "https://localhost:8080/",
     "height": 353
    },
    "colab_type": "code",
    "executionInfo": {
     "elapsed": 233690,
     "status": "ok",
     "timestamp": 1590756573800,
     "user": {
      "displayName": "F74056051張語恩",
      "photoUrl": "",
      "userId": "00523065206091252932"
     },
     "user_tz": -480
    },
    "id": "Q2nqvqkXb-y2",
    "outputId": "a7c66e64-6078-40c2-8667-cf52567a7f89"
   },
   "outputs": [
    {
     "name": "stdout",
     "output_type": "stream",
     "text": [
      "Epoch 1\n",
      "Epoch 6\n",
      "Epoch 11\n",
      "Epoch 16\n",
      "Epoch 1\n",
      "Epoch 6\n",
      "Epoch 11\n",
      "Epoch 16\n",
      "Epoch 1\n",
      "Epoch 6\n",
      "Epoch 11\n",
      "Epoch 16\n",
      "Epoch 1\n",
      "Epoch 6\n",
      "Epoch 11\n",
      "Epoch 16\n",
      "Epoch 1\n",
      "Epoch 6\n",
      "Epoch 11\n",
      "Epoch 16\n"
     ]
    }
   ],
   "source": [
    "from sklearn.utils import shuffle\n",
    "from torch.autograd import Variable\n",
    "from sklearn.metrics import accuracy_score\n",
    "from sklearn.model_selection import KFold\n",
    "\n",
    "train_acc_list = []                                   # 儲存每次訓練模型的準確度\n",
    "valid_acc_list = []                                   # 儲存每次驗證模型的準確度\n",
    "\n",
    "# 切train val\n",
    "kf = KFold(n_splits=5, shuffle=True)\n",
    "kf.get_n_splits(X_train)#因為x y數量一樣，所以把一個拿進去切就好\n",
    "\n",
    "for train_index, test_index in kf.split(X_train):\n",
    "    #print(\"TRAIN:\", train_index, \"TEST:\", test_index)\n",
    "    x_train, x_test = X_train[train_index], X_train[test_index]\n",
    "    y_train, y_test = Y_train[train_index], Y_train[test_index]\n",
    "    batch_no = len(x_train) // batch_size\n",
    "    for epoch in range(num_epochs):\n",
    "        if epoch % 5 == 0:\n",
    "            print('Epoch {}'.format(epoch+1))\n",
    "\n",
    "        # 每個 batch learning\n",
    "        for i in range(batch_no):\n",
    "            #print('batch no:', i)\n",
    "            start = i * batch_size\n",
    "            end = start + batch_size\n",
    "            \n",
    "            net.train()# 進入非訓練模式\n",
    "            \n",
    "            #丟給model必須是Variable  才能backward\n",
    "            x_var = torch.FloatTensor(x_train[start:end])#float\n",
    "            y_var = torch.LongTensor(y_train[start:end])#int\n",
    "\n",
    "            # Forward + Backward + Optimize\n",
    "            optimizer.zero_grad()\n",
    "            ypred_var = net(x_var) \n",
    "            loss =criterion(ypred_var, y_var)\n",
    "            loss.backward()\n",
    "            optimizer.step()\n",
    "            \n",
    "            net.eval() # 進入非訓練模式\n",
    "            with torch.no_grad():\n",
    "                \n",
    "                x_train = torch.FloatTensor(x_train)#float\n",
    "                train_pred_y = net(x_train)\n",
    "                values, labels = torch.max(train_pred_y, 1)\n",
    "                train_acc = accuracy_score(y_train,         # 計算訓練資料準確度\n",
    "                                   labels)\n",
    "\n",
    "                x_test = torch.FloatTensor(x_test)\n",
    "                valid_pred_y = net(x_test)\n",
    "                values, labels = torch.max(valid_pred_y, 1)\n",
    "                valid_acc = accuracy_score(y_test,         # 計算驗證資料準確度\n",
    "                                   labels)\n",
    "\n",
    "                train_acc_list.append(train_acc)\n",
    "                valid_acc_list.append(valid_acc)"
   ]
  },
  {
   "cell_type": "code",
   "execution_count": 64,
   "metadata": {
    "colab": {
     "base_uri": "https://localhost:8080/",
     "height": 134
    },
    "colab_type": "code",
    "executionInfo": {
     "elapsed": 1331,
     "status": "ok",
     "timestamp": 1590756664020,
     "user": {
      "displayName": "F74056051張語恩",
      "photoUrl": "",
      "userId": "00523065206091252932"
     },
     "user_tz": -480
    },
    "id": "FatTA-mAb-07",
    "outputId": "a5e18ed5-bd9c-4c59-ad61-33ecacaf682f"
   },
   "outputs": [
    {
     "name": "stdout",
     "output_type": "stream",
     "text": [
      "average train accuracy: 0.8452554537630138\n",
      "min train accuracy: 0.842558799675588\n",
      "max train accuracy: 0.8467153284671532\n",
      "\n",
      "average valid accuracy: 0.7931444998924143\n",
      "min valid accuracy: 0.7124898621248986\n",
      "max valid accuracy: 0.8552311435523114\n",
      "last val acc:  0.7445255474452555\n"
     ]
    }
   ],
   "source": [
    "print((\n",
    "    'average train accuracy: {}\\n' +\n",
    "    'min train accuracy: {}\\n' +\n",
    "    'max train accuracy: {}').format(\n",
    "    np.mean(train_acc_list),                          # 輸出平均訓練準確度\n",
    "    np.min(train_acc_list),                           # 輸出最低訓練準確度\n",
    "    np.max(train_acc_list)                            # 輸出最高訓練準確度\n",
    "))\n",
    "print()\n",
    "print((\n",
    "    'average valid accuracy: {}\\n' +\n",
    "    'min valid accuracy: {}\\n' +\n",
    "    'max valid accuracy: {}').format(\n",
    "    np.mean(valid_acc_list),                          # 輸出平均驗證準確度\n",
    "    np.min(valid_acc_list),                           # 輸出最低驗證準確度\n",
    "    np.max(valid_acc_list)                            # 輸出最高驗證準確度\n",
    "))\n",
    "print('last val acc: ', valid_acc_list[-1])"
   ]
  },
  {
   "cell_type": "markdown",
   "metadata": {},
   "source": [
    "## improve\n",
    "### 把x中correlation低的刪除試試看（其他參數不改）"
   ]
  },
  {
   "cell_type": "code",
   "execution_count": 45,
   "metadata": {},
   "outputs": [],
   "source": [
    "X_train_2 = pd.read_csv('X_train.csv')\n",
    "X_train_2 = X_train_2.drop(['id', 'TrafficType', 'Month_Jul', 'VisitorType_Other', 'Browser', 'Region', 'Month_Aug', 'Month_Sep'], axis=1)\n",
    "X_train_2 = X_train_2.values"
   ]
  },
  {
   "cell_type": "markdown",
   "metadata": {},
   "source": [
    "#### 開始訓練"
   ]
  },
  {
   "cell_type": "code",
   "execution_count": 46,
   "metadata": {},
   "outputs": [],
   "source": [
    "input_len_2 = len(X_train_2[0])\n",
    "\n",
    "class Net2(nn.Module):\n",
    "    \n",
    "    def __init__(self):\n",
    "        super(Net2, self).__init__()\n",
    "        self.fc1 = nn.Linear(input_len_2, 200) #270自己設定的嘛0.0\n",
    "        self.fc2 = nn.Linear(200, 2)\n",
    "        \n",
    "    def forward(self, x):\n",
    "        x = self.fc1(x)\n",
    "        x = F.dropout(x, p=0.1)\n",
    "        x = F.relu(x)\n",
    "        x = self.fc2(x)\n",
    "        x = F.sigmoid(x)\n",
    "        \n",
    "        return x\n",
    "    \n",
    "net2 = Net2()"
   ]
  },
  {
   "cell_type": "code",
   "execution_count": 48,
   "metadata": {},
   "outputs": [],
   "source": [
    "criterion = nn.CrossEntropyLoss()\n",
    "optimizer = torch.optim.Adam(net2.parameters(), lr=learning_rate)"
   ]
  },
  {
   "cell_type": "code",
   "execution_count": 49,
   "metadata": {},
   "outputs": [
    {
     "name": "stdout",
     "output_type": "stream",
     "text": [
      "Epoch 1\n",
      "Epoch 6\n",
      "Epoch 11\n",
      "Epoch 16\n",
      "Epoch 1\n",
      "Epoch 6\n",
      "Epoch 11\n",
      "Epoch 16\n",
      "Epoch 1\n",
      "Epoch 6\n",
      "Epoch 11\n",
      "Epoch 16\n",
      "Epoch 1\n",
      "Epoch 6\n",
      "Epoch 11\n",
      "Epoch 16\n",
      "Epoch 1\n",
      "Epoch 6\n",
      "Epoch 11\n",
      "Epoch 16\n"
     ]
    }
   ],
   "source": [
    "train_acc_list_2 = []                                   # 儲存每次訓練模型的準確度\n",
    "valid_acc_list_2 = []                                   # 儲存每次驗證模型的準確度\n",
    "\n",
    "# 切train val\n",
    "kf = KFold(n_splits=5, shuffle=True)\n",
    "kf.get_n_splits(X_train_2)#因為x y數量一樣，所以把一個拿進去切就好\n",
    "\n",
    "for train_index, test_index in kf.split(X_train_2):\n",
    "    x_train, x_test = X_train_2[train_index], X_train_2[test_index]\n",
    "    y_train, y_test = Y_train[train_index], Y_train[test_index]\n",
    "    batch_no = len(x_train) // batch_size\n",
    "    for epoch in range(num_epochs):\n",
    "        if epoch % 5 == 0:\n",
    "            print('Epoch {}'.format(epoch+1))\n",
    "\n",
    "        # 每個 batch learning\n",
    "        for i in range(batch_no):\n",
    "            #print('batch no:', i)\n",
    "            start = i * batch_size\n",
    "            end = start + batch_size\n",
    "            \n",
    "            net2.train()# 進入非訓練模式\n",
    "            \n",
    "            #丟給model必須是Variable  才能backward\n",
    "            x_var = torch.FloatTensor(x_train[start:end])#float\n",
    "            y_var = torch.LongTensor(y_train[start:end])#int\n",
    "\n",
    "            # Forward + Backward + Optimize\n",
    "            optimizer.zero_grad()\n",
    "            ypred_var = net2(x_var) \n",
    "            loss =criterion(ypred_var, y_var)\n",
    "            loss.backward()\n",
    "            optimizer.step()\n",
    "            \n",
    "            net2.eval() # 進入非訓練模式\n",
    "            with torch.no_grad():\n",
    "                \n",
    "                x_train = torch.FloatTensor(x_train)#float\n",
    "                train_pred_y = net2(x_train)\n",
    "                values, labels = torch.max(train_pred_y, 1)\n",
    "                train_acc = accuracy_score(y_train,         # 計算訓練資料準確度\n",
    "                                   labels)\n",
    "\n",
    "                x_test = torch.FloatTensor(x_test)\n",
    "                valid_pred_y = net2(x_test)\n",
    "                values, labels = torch.max(valid_pred_y, 1)\n",
    "                valid_acc = accuracy_score(y_test,         # 計算驗證資料準確度\n",
    "                                   labels)\n",
    "\n",
    "                train_acc_list_2.append(train_acc)\n",
    "                valid_acc_list_2.append(valid_acc)"
   ]
  },
  {
   "cell_type": "code",
   "execution_count": 63,
   "metadata": {},
   "outputs": [
    {
     "name": "stdout",
     "output_type": "stream",
     "text": [
      "average train accuracy: 0.8445654161908073\n",
      "min train accuracy: 0.2947080291970803\n",
      "max train accuracy: 0.8484387672343877\n",
      "\n",
      "average valid accuracy: 0.8445372163463924\n",
      "min valid accuracy: 0.28304947283049475\n",
      "max valid accuracy: 0.8527980535279805\n",
      "last val acc:  0.8471208434712084\n"
     ]
    }
   ],
   "source": [
    "print((\n",
    "    'average train accuracy: {}\\n' +\n",
    "    'min train accuracy: {}\\n' +\n",
    "    'max train accuracy: {}').format(\n",
    "    np.mean(train_acc_list_2),                          # 輸出平均訓練準確度\n",
    "    np.min(train_acc_list_2),                           # 輸出最低訓練準確度\n",
    "    np.max(train_acc_list_2)                            # 輸出最高訓練準確度\n",
    "))\n",
    "print()\n",
    "print((\n",
    "    'average valid accuracy: {}\\n' +\n",
    "    'min valid accuracy: {}\\n' +\n",
    "    'max valid accuracy: {}').format(\n",
    "    np.mean(valid_acc_list_2),                          # 輸出平均驗證準確度\n",
    "    np.min(valid_acc_list_2),                           # 輸出最低驗證準確度\n",
    "    np.max(valid_acc_list_2)                            # 輸出最高驗證準確度\n",
    "))\n",
    "print('last val acc: ', valid_acc_list_2[-1])"
   ]
  },
  {
   "cell_type": "markdown",
   "metadata": {},
   "source": [
    "### 結果觀察\n",
    "結果變好了一點點！\n",
    "改改看參數\n",
    "1. 訓練次數變多\n",
    "2. batch size變小\n",
    "3. lr變小\n",
    "4. 隱藏層參數變多"
   ]
  },
  {
   "cell_type": "code",
   "execution_count": 51,
   "metadata": {},
   "outputs": [],
   "source": [
    "batch_size = 200 \n",
    "num_epochs = 30 \n",
    "learning_rate = 0.005"
   ]
  },
  {
   "cell_type": "code",
   "execution_count": 52,
   "metadata": {},
   "outputs": [],
   "source": [
    "#X_train = pd.read_csv('X_train.csv')\n",
    "#X_train = X_train.drop(['id'], axis=1)\n",
    "#X_train = X_train.values"
   ]
  },
  {
   "cell_type": "code",
   "execution_count": 56,
   "metadata": {},
   "outputs": [],
   "source": [
    "class Net3(nn.Module):\n",
    "    \n",
    "    def __init__(self):\n",
    "        super(Net3, self).__init__()\n",
    "        self.fc1 = nn.Linear(input_len_2, 300) \n",
    "        self.fc2 = nn.Linear(300, 2)\n",
    "        \n",
    "    def forward(self, x):\n",
    "        x = self.fc1(x)\n",
    "        x = F.dropout(x, p=0.1)\n",
    "        x = F.relu(x)\n",
    "        x = self.fc2(x)\n",
    "        x = F.sigmoid(x)\n",
    "        \n",
    "        return x\n",
    "    \n",
    "net3 = Net3()"
   ]
  },
  {
   "cell_type": "code",
   "execution_count": 57,
   "metadata": {},
   "outputs": [],
   "source": [
    "criterion = nn.CrossEntropyLoss()\n",
    "optimizer = torch.optim.Adam(net3.parameters(), lr=learning_rate)"
   ]
  },
  {
   "cell_type": "code",
   "execution_count": 58,
   "metadata": {},
   "outputs": [
    {
     "name": "stdout",
     "output_type": "stream",
     "text": [
      "Epoch 1\n",
      "Epoch 6\n",
      "Epoch 11\n",
      "Epoch 16\n",
      "Epoch 21\n",
      "Epoch 26\n",
      "Epoch 1\n",
      "Epoch 6\n",
      "Epoch 11\n",
      "Epoch 16\n",
      "Epoch 21\n",
      "Epoch 26\n",
      "Epoch 1\n",
      "Epoch 6\n",
      "Epoch 11\n",
      "Epoch 16\n",
      "Epoch 21\n",
      "Epoch 26\n",
      "Epoch 1\n",
      "Epoch 6\n",
      "Epoch 11\n",
      "Epoch 16\n",
      "Epoch 21\n",
      "Epoch 26\n",
      "Epoch 1\n",
      "Epoch 6\n",
      "Epoch 11\n",
      "Epoch 16\n",
      "Epoch 21\n",
      "Epoch 26\n"
     ]
    }
   ],
   "source": [
    "train_acc_list_3 = []                                   # 儲存每次訓練模型的準確度\n",
    "valid_acc_list_3 = []                                   # 儲存每次驗證模型的準確度\n",
    "\n",
    "# 切train val\n",
    "kf = KFold(n_splits=5, shuffle=True)\n",
    "kf.get_n_splits(X_train_2)#因為x y數量一樣，所以把一個拿進去切就好\n",
    "\n",
    "for train_index, test_index in kf.split(X_train_2):\n",
    "    x_train, x_test = X_train_2[train_index], X_train_2[test_index]\n",
    "    y_train, y_test = Y_train[train_index], Y_train[test_index]\n",
    "    batch_no = len(x_train) // batch_size\n",
    "    for epoch in range(num_epochs):\n",
    "        if epoch % 5 == 0:\n",
    "            print('Epoch {}'.format(epoch+1))\n",
    "\n",
    "        # 每個 batch learning\n",
    "        for i in range(batch_no):\n",
    "            #print('batch no:', i)\n",
    "            start = i * batch_size\n",
    "            end = start + batch_size\n",
    "            \n",
    "            net3.train()# 進入非訓練模式\n",
    "            \n",
    "            #丟給model必須是Variable  才能backward\n",
    "            x_var = torch.FloatTensor(x_train[start:end])#float\n",
    "            y_var = torch.LongTensor(y_train[start:end])#int\n",
    "\n",
    "            # Forward + Backward + Optimize\n",
    "            optimizer.zero_grad()\n",
    "            ypred_var = net3(x_var) \n",
    "            loss =criterion(ypred_var, y_var)\n",
    "            loss.backward()\n",
    "            optimizer.step()\n",
    "            \n",
    "            net3.eval() # 進入非訓練模式\n",
    "            with torch.no_grad():\n",
    "                \n",
    "                x_train = torch.FloatTensor(x_train)#float\n",
    "                train_pred_y = net3(x_train)\n",
    "                values, labels = torch.max(train_pred_y, 1)\n",
    "                train_acc = accuracy_score(y_train,         # 計算訓練資料準確度\n",
    "                                   labels)\n",
    "\n",
    "                x_test = torch.FloatTensor(x_test)\n",
    "                valid_pred_y = net3(x_test)\n",
    "                values, labels = torch.max(valid_pred_y, 1)\n",
    "                valid_acc = accuracy_score(y_test,         # 計算驗證資料準確度\n",
    "                                   labels)\n",
    "\n",
    "                train_acc_list_3.append(train_acc)\n",
    "                valid_acc_list_3.append(valid_acc)"
   ]
  },
  {
   "cell_type": "code",
   "execution_count": 65,
   "metadata": {},
   "outputs": [
    {
     "name": "stdout",
     "output_type": "stream",
     "text": [
      "average train accuracy: 0.8452554744525547\n",
      "min train accuracy: 0.842051905920519\n",
      "max train accuracy: 0.8490470397404704\n",
      "\n",
      "average valid accuracy: 0.8452554744525548\n",
      "min valid accuracy: 0.8300892133008921\n",
      "max valid accuracy: 0.8580697485806975\n",
      "last val acc:  0.8540145985401459\n"
     ]
    }
   ],
   "source": [
    "print((\n",
    "    'average train accuracy: {}\\n' +\n",
    "    'min train accuracy: {}\\n' +\n",
    "    'max train accuracy: {}').format(\n",
    "    np.mean(train_acc_list_3),                          # 輸出平均訓練準確度\n",
    "    np.min(train_acc_list_3),                           # 輸出最低訓練準確度\n",
    "    np.max(train_acc_list_3)                            # 輸出最高訓練準確度\n",
    "))\n",
    "print()\n",
    "print((\n",
    "    'average valid accuracy: {}\\n' +\n",
    "    'min valid accuracy: {}\\n' +\n",
    "    'max valid accuracy: {}').format(\n",
    "    np.mean(valid_acc_list_3),                          # 輸出平均驗證準確度\n",
    "    np.min(valid_acc_list_3),                           # 輸出最低驗證準確度\n",
    "    np.max(valid_acc_list_3)                            # 輸出最高驗證準確度\n",
    "))\n",
    "print('last val acc: ', valid_acc_list_3[-1])"
   ]
  },
  {
   "cell_type": "markdown",
   "metadata": {},
   "source": [
    "### 結果觀察\n",
    "以最後的「last val acc」來說，每次更改都有變好。（0.7445255474452555 -> 0.8471208434712084 -> 0.8540145985401459）"
   ]
  },
  {
   "cell_type": "markdown",
   "metadata": {},
   "source": [
    "## 總結\n",
    "*增加準確度的方法們*\n",
    "* 刪減特徵值：\n",
    "    我將相關度為0.01** 以下的特徵刪除，減低noise。\n",
    "    有效讓last val acc上升了超過10趴\n",
    "* 調低lr：\n",
    "    雖然lr越低會訓練的越慢，但由於數值低一點可以更精準的讓值落在最低點，因此選擇調整此參數。\n",
    "* 調高batch size：\n",
    "    讓模型可以更完整的看到資料的整體性。\n",
    "* 調高隱藏層：\n",
    "    試試看將隱藏層的數字變大\n",
    "* 訓練次數變多:\n",
    "    由於害怕會因此overfitting，運用了dropout\n"
   ]
  },
  {
   "cell_type": "code",
   "execution_count": null,
   "metadata": {},
   "outputs": [],
   "source": []
  }
 ],
 "metadata": {
  "colab": {
   "name": "hw3_2.ipynb",
   "provenance": []
  },
  "kernelspec": {
   "display_name": "Python 3",
   "language": "python",
   "name": "python3"
  },
  "language_info": {
   "codemirror_mode": {
    "name": "ipython",
    "version": 3
   },
   "file_extension": ".py",
   "mimetype": "text/x-python",
   "name": "python",
   "nbconvert_exporter": "python",
   "pygments_lexer": "ipython3",
   "version": "3.5.2"
  }
 },
 "nbformat": 4,
 "nbformat_minor": 1
}
